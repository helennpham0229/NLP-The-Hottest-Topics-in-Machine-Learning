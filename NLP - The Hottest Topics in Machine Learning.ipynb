{
 "cells": [
  {
   "cell_type": "markdown",
   "metadata": {
    "dc": {
     "key": "4"
    },
    "deletable": false,
    "editable": false,
    "run_control": {
     "frozen": true
    },
    "tags": [
     "context"
    ]
   },
   "source": [
    "## 1. Loading the NIPS papers\n",
    "<p>The NIPS conference (Neural Information Processing Systems) is one of the most prestigious yearly events in the machine learning community. At each NIPS conference, a large number of research papers are published. Over 50,000 PDF files were automatically downloaded and processed to obtain a dataset on various machine learning techniques. These NIPS papers are stored in <code>papers.csv</code>. The CSV file contains information on the different NIPS papers that were published from 1987 until 2017 (30 years!). These papers discuss a wide variety of topics in machine learning, from neural networks to optimization methods and many more.\n"
    "<p>First, we will explore the CSV file to determine what type of data we can use for the analysis and how it is structured. A research paper typically consists of a title, an abstract and the main text. Other data such as figures and tables were not extracted from the PDF files. Each paper discusses a novel technique or improvement. In this analysis, we will focus on analyzing these papers with natural language processing methods.</p>"
   ]
  },
  {
   "cell_type": "code",
   "execution_count": 2,
   "metadata": {
    "dc": {
     "key": "4"
    },
    "tags": [
     "sample_code"
    ]
   },
   "outputs": [
    {
     "data": {
      "text/html": [
       "<div>\n",
       "<style scoped>\n",
       "    .dataframe tbody tr th:only-of-type {\n",
       "        vertical-align: middle;\n",
       "    }\n",
       "\n",
       "    .dataframe tbody tr th {\n",
       "        vertical-align: top;\n",
       "    }\n",
       "\n",
       "    .dataframe thead th {\n",
       "        text-align: right;\n",
       "    }\n",
       "</style>\n",
       "<table border=\"1\" class=\"dataframe\">\n",
       "  <thead>\n",
       "    <tr style=\"text-align: right;\">\n",
       "      <th></th>\n",
       "      <th>id</th>\n",
       "      <th>year</th>\n",
       "      <th>title</th>\n",
       "      <th>event_type</th>\n",
       "      <th>pdf_name</th>\n",
       "      <th>abstract</th>\n",
       "      <th>paper_text</th>\n",
       "    </tr>\n",
       "  </thead>\n",
       "  <tbody>\n",
       "    <tr>\n",
       "      <th>0</th>\n",
       "      <td>1</td>\n",
       "      <td>1987</td>\n",
       "      <td>Self-Organization of Associative Database and ...</td>\n",
       "      <td>NaN</td>\n",
       "      <td>1-self-organization-of-associative-database-an...</td>\n",
       "      <td>Abstract Missing</td>\n",
       "      <td>767\\n\\nSELF-ORGANIZATION OF ASSOCIATIVE DATABA...</td>\n",
       "    </tr>\n",
       "    <tr>\n",
       "      <th>1</th>\n",
       "      <td>10</td>\n",
       "      <td>1987</td>\n",
       "      <td>A Mean Field Theory of Layer IV of Visual Cort...</td>\n",
       "      <td>NaN</td>\n",
       "      <td>10-a-mean-field-theory-of-layer-iv-of-visual-c...</td>\n",
       "      <td>Abstract Missing</td>\n",
       "      <td>683\\n\\nA MEAN FIELD THEORY OF LAYER IV OF VISU...</td>\n",
       "    </tr>\n",
       "    <tr>\n",
       "      <th>2</th>\n",
       "      <td>100</td>\n",
       "      <td>1988</td>\n",
       "      <td>Storing Covariance by the Associative Long-Ter...</td>\n",
       "      <td>NaN</td>\n",
       "      <td>100-storing-covariance-by-the-associative-long...</td>\n",
       "      <td>Abstract Missing</td>\n",
       "      <td>394\\n\\nSTORING COVARIANCE BY THE ASSOCIATIVE\\n...</td>\n",
       "    </tr>\n",
       "    <tr>\n",
       "      <th>3</th>\n",
       "      <td>1000</td>\n",
       "      <td>1994</td>\n",
       "      <td>Bayesian Query Construction for Neural Network...</td>\n",
       "      <td>NaN</td>\n",
       "      <td>1000-bayesian-query-construction-for-neural-ne...</td>\n",
       "      <td>Abstract Missing</td>\n",
       "      <td>Bayesian Query Construction for Neural\\nNetwor...</td>\n",
       "    </tr>\n",
       "    <tr>\n",
       "      <th>4</th>\n",
       "      <td>1001</td>\n",
       "      <td>1994</td>\n",
       "      <td>Neural Network Ensembles, Cross Validation, an...</td>\n",
       "      <td>NaN</td>\n",
       "      <td>1001-neural-network-ensembles-cross-validation...</td>\n",
       "      <td>Abstract Missing</td>\n",
       "      <td>Neural Network Ensembles, Cross\\nValidation, a...</td>\n",
       "    </tr>\n",
       "  </tbody>\n",
       "</table>\n",
       "</div>"
      ],
      "text/plain": [
       "     id  year                                              title event_type  \\\n",
       "0     1  1987  Self-Organization of Associative Database and ...        NaN   \n",
       "1    10  1987  A Mean Field Theory of Layer IV of Visual Cort...        NaN   \n",
       "2   100  1988  Storing Covariance by the Associative Long-Ter...        NaN   \n",
       "3  1000  1994  Bayesian Query Construction for Neural Network...        NaN   \n",
       "4  1001  1994  Neural Network Ensembles, Cross Validation, an...        NaN   \n",
       "\n",
       "                                            pdf_name          abstract  \\\n",
       "0  1-self-organization-of-associative-database-an...  Abstract Missing   \n",
       "1  10-a-mean-field-theory-of-layer-iv-of-visual-c...  Abstract Missing   \n",
       "2  100-storing-covariance-by-the-associative-long...  Abstract Missing   \n",
       "3  1000-bayesian-query-construction-for-neural-ne...  Abstract Missing   \n",
       "4  1001-neural-network-ensembles-cross-validation...  Abstract Missing   \n",
       "\n",
       "                                          paper_text  \n",
       "0  767\\n\\nSELF-ORGANIZATION OF ASSOCIATIVE DATABA...  \n",
       "1  683\\n\\nA MEAN FIELD THEORY OF LAYER IV OF VISU...  \n",
       "2  394\\n\\nSTORING COVARIANCE BY THE ASSOCIATIVE\\n...  \n",
       "3  Bayesian Query Construction for Neural\\nNetwor...  \n",
       "4  Neural Network Ensembles, Cross\\nValidation, a...  "
      ]
     },
     "execution_count": 2,
     "metadata": {},
     "output_type": "execute_result"
    }
   ],
   "source": [
    "# Importing modules\n",
    "import pandas as pd\n",
    "\n",
    "# Read datasets/papers.csv into papers\n",
    "papers = pd.read_csv(\"datasets/papers.csv\")\n",
    "\n",
    "# Print out the first rows of papers\n",
    "papers.head()"
   ]
  },
  {
   "cell_type": "markdown",
   "metadata": {
    "dc": {
     "key": "11"
    },
    "deletable": false,
    "editable": false,
    "run_control": {
     "frozen": true
    },
    "tags": [
     "context"
    ]
   },
   "source": [
    "## 2. Preparing the data for analysis\n",
    "<p>For the analysis of the papers, we are only interested in the text data associated with the paper as well as the year the paper was published in.</p>\n",
    "<p>We will analyze this text data using natural language processing.  Since the file contains some metadata such as id's and filenames, it is necessary to remove all the columns that do not contain useful text information.</p>"
   ]
  },
  {
   "cell_type": "code",
   "execution_count": 4,
   "metadata": {
    "dc": {
     "key": "11"
    },
    "tags": [
     "sample_code"
    ]
   },
   "outputs": [
    {
     "data": {
      "text/html": [
       "<div>\n",
       "<style scoped>\n",
       "    .dataframe tbody tr th:only-of-type {\n",
       "        vertical-align: middle;\n",
       "    }\n",
       "\n",
       "    .dataframe tbody tr th {\n",
       "        vertical-align: top;\n",
       "    }\n",
       "\n",
       "    .dataframe thead th {\n",
       "        text-align: right;\n",
       "    }\n",
       "</style>\n",
       "<table border=\"1\" class=\"dataframe\">\n",
       "  <thead>\n",
       "    <tr style=\"text-align: right;\">\n",
       "      <th></th>\n",
       "      <th>year</th>\n",
       "      <th>title</th>\n",
       "      <th>abstract</th>\n",
       "      <th>paper_text</th>\n",
       "    </tr>\n",
       "  </thead>\n",
       "  <tbody>\n",
       "    <tr>\n",
       "      <th>0</th>\n",
       "      <td>1987</td>\n",
       "      <td>Self-Organization of Associative Database and ...</td>\n",
       "      <td>Abstract Missing</td>\n",
       "      <td>767\\n\\nSELF-ORGANIZATION OF ASSOCIATIVE DATABA...</td>\n",
       "    </tr>\n",
       "    <tr>\n",
       "      <th>1</th>\n",
       "      <td>1987</td>\n",
       "      <td>A Mean Field Theory of Layer IV of Visual Cort...</td>\n",
       "      <td>Abstract Missing</td>\n",
       "      <td>683\\n\\nA MEAN FIELD THEORY OF LAYER IV OF VISU...</td>\n",
       "    </tr>\n",
       "    <tr>\n",
       "      <th>2</th>\n",
       "      <td>1988</td>\n",
       "      <td>Storing Covariance by the Associative Long-Ter...</td>\n",
       "      <td>Abstract Missing</td>\n",
       "      <td>394\\n\\nSTORING COVARIANCE BY THE ASSOCIATIVE\\n...</td>\n",
       "    </tr>\n",
       "    <tr>\n",
       "      <th>3</th>\n",
       "      <td>1994</td>\n",
       "      <td>Bayesian Query Construction for Neural Network...</td>\n",
       "      <td>Abstract Missing</td>\n",
       "      <td>Bayesian Query Construction for Neural\\nNetwor...</td>\n",
       "    </tr>\n",
       "    <tr>\n",
       "      <th>4</th>\n",
       "      <td>1994</td>\n",
       "      <td>Neural Network Ensembles, Cross Validation, an...</td>\n",
       "      <td>Abstract Missing</td>\n",
       "      <td>Neural Network Ensembles, Cross\\nValidation, a...</td>\n",
       "    </tr>\n",
       "  </tbody>\n",
       "</table>\n",
       "</div>"
      ],
      "text/plain": [
       "   year                                              title          abstract  \\\n",
       "0  1987  Self-Organization of Associative Database and ...  Abstract Missing   \n",
       "1  1987  A Mean Field Theory of Layer IV of Visual Cort...  Abstract Missing   \n",
       "2  1988  Storing Covariance by the Associative Long-Ter...  Abstract Missing   \n",
       "3  1994  Bayesian Query Construction for Neural Network...  Abstract Missing   \n",
       "4  1994  Neural Network Ensembles, Cross Validation, an...  Abstract Missing   \n",
       "\n",
       "                                          paper_text  \n",
       "0  767\\n\\nSELF-ORGANIZATION OF ASSOCIATIVE DATABA...  \n",
       "1  683\\n\\nA MEAN FIELD THEORY OF LAYER IV OF VISU...  \n",
       "2  394\\n\\nSTORING COVARIANCE BY THE ASSOCIATIVE\\n...  \n",
       "3  Bayesian Query Construction for Neural\\nNetwor...  \n",
       "4  Neural Network Ensembles, Cross\\nValidation, a...  "
      ]
     },
     "execution_count": 4,
     "metadata": {},
     "output_type": "execute_result"
    }
   ],
   "source": [
    "# Remove the columns\n",
    "papers.drop(['id', 'event_type', 'pdf_name'], axis=1, inplace=True)\n",
    "\n",
    "# Print out the first rows of papers\n",
    "papers.head()"
   ]
  },
  {
   "cell_type": "markdown",
   "metadata": {
    "dc": {
     "key": "18"
    },
    "deletable": false,
    "editable": false,
    "run_control": {
     "frozen": true
    },
    "tags": [
     "context"
    ]
   },
   "source": [
    "## 3. Plotting how machine learning has evolved over time\n",
    "<p>In order to understand how the machine learning field has recently exploded in popularity, we will begin by visualizing the number of publications per year. </p>\n",
    "<p>By looking at the number of published papers per year,  we can understand the extent of the machine learning 'revolution'! Typically, this significant increase in popularity is attributed to the large amounts of compute power, data and improvements in algorithms.</p>"
   ]
  },
  {
   "cell_type": "code",
   "execution_count": 6,
   "metadata": {
    "dc": {
     "key": "18"
    },
    "tags": [
     "sample_code"
    ]
   },
   "outputs": [
    {
     "data": {
      "text/plain": [
       "<matplotlib.axes._subplots.AxesSubplot at 0x7fdfbd6f9748>"
      ]
     },
     "execution_count": 6,
     "metadata": {},
     "output_type": "execute_result"
    },
    {
     "data": {
      "image/png": "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\n",
      "text/plain": [
       "<Figure size 432x288 with 1 Axes>"
      ]
     },
     "metadata": {},
     "output_type": "display_data"
    }
   ],
   "source": [
    "# Group the papers by year\n",
    "groups = papers.groupby('year')\n",
    "\n",
    "# Determine the size of each group\n",
    "counts = groups.size()\n",
    "\n",
    "# Visualise the counts as a bar plot\n",
    "import matplotlib.pyplot\n",
    "%matplotlib inline\n",
    "counts.plot(kind='bar')"
   ]
  },
  {
   "cell_type": "markdown",
   "metadata": {
    "dc": {
     "key": "25"
    },
    "deletable": false,
    "editable": false,
    "run_control": {
     "frozen": true
    },
    "tags": [
     "context"
    ]
   },
   "source": [
    "## 4. Preprocessing the text data\n",
    "<p>Let's now analyze the titles of the different papers to identify machine learning trends. First, we will perform some simple preprocessing on the titles in order to make them more amenable for analysis. We will use a regular expression to remove any punctuation in the title. Then we will perform lowercasing. We'll then print the titles of the first rows before and after applying the modification.</p>"
   ]
  },
  {
   "cell_type": "code",
   "execution_count": 8,
   "metadata": {
    "dc": {
     "key": "25"
    },
    "tags": [
     "sample_code"
    ]
   },
   "outputs": [
    {
     "name": "stdout",
     "output_type": "stream",
     "text": [
      "0    Self-Organization of Associative Database and ...\n",
      "1    A Mean Field Theory of Layer IV of Visual Cort...\n",
      "2    Storing Covariance by the Associative Long-Ter...\n",
      "3    Bayesian Query Construction for Neural Network...\n",
      "4    Neural Network Ensembles, Cross Validation, an...\n",
      "Name: title, dtype: object\n"
     ]
    },
    {
     "data": {
      "text/plain": [
       "0    self-organization of associative database and ...\n",
       "1    a mean field theory of layer iv of visual cort...\n",
       "2    storing covariance by the associative long-ter...\n",
       "3    bayesian query construction for neural network...\n",
       "4    neural network ensembles cross validation and ...\n",
       "Name: title_processed, dtype: object"
      ]
     },
     "execution_count": 8,
     "metadata": {},
     "output_type": "execute_result"
    }
   ],
   "source": [
    "# Load the regular expression library\n",
    "import re\n",
    "\n",
    "# Print the titles of the first rows \n",
    "print(papers['title'].head())\n",
    "\n",
    "# The following line \n",
    "papers['title_processed'] = papers['title'].map(lambda x: re.sub('[,\\.!?]', '', x))\n",
    "\n",
    "# Convert the titles to lowercase\n",
    "papers['title_processed'] = papers['title_processed'].map(lambda x: x.lower())\n",
    "\n",
    "# Print the processed titles of the first rows \n",
    "papers['title_processed'].head()"
   ]
  },
  {
   "cell_type": "markdown",
   "metadata": {
    "dc": {
     "key": "32"
    },
    "deletable": false,
    "editable": false,
    "run_control": {
     "frozen": true
    },
    "tags": [
     "context"
    ]
   },
   "source": [
    "## 5.  A word cloud to visualize the preprocessed text data\n",
    "<p>In order to verify whether the preprocessing happened correctly, we can make a word cloud of the titles of the research papers. This will give us a visual representation of the most common words. Visualisation is key to understanding whether we are still on the right track! In addition, it allows us to verify whether we need additional preprocessing before further analyzing the text data.</p>\n",
    "<p>Python has a massive number of open libraries! Instead of trying to develop a method to create word clouds ourselves, we'll use Andreas Mueller's <a href=\"http://amueller.github.io/word_cloud/\">wordcloud library</a>.</p>"
   ]
  },
  {
   "cell_type": "code",
   "execution_count": 10,
   "metadata": {
    "dc": {
     "key": "32"
    },
    "tags": [
     "sample_code"
    ]
   },
   "outputs": [
    {
     "data": {
      "image/png": "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\n",
      "text/plain": [
       "<PIL.Image.Image image mode=RGB size=400x200 at 0x7FDFBB2A4FD0>"
      ]
     },
     "execution_count": 10,
     "metadata": {},
     "output_type": "execute_result"
    }
   ],
   "source": [
    "# Import the wordcloud library\n",
    "import wordcloud\n",
    "\n",
    "# Join the different processed titles together.\n",
    "long_string = ' '.join(papers['title_processed'])\n",
    "\n",
    "# Create a WordCloud object, generate a wordcloud and visualise it\n",
    "wordcloud = wordcloud.WordCloud()\n",
    "\n",
    "# Generate a word cloud\n",
    "wordcloud.generate(long_string)\n",
    "\n",
    "# Visualize the word cloud\n",
    "wordcloud.to_image()"
   ]
  },
  {
   "cell_type": "markdown",
   "metadata": {
    "dc": {
     "key": "39"
    },
    "deletable": false,
    "editable": false,
    "run_control": {
     "frozen": true
    },
    "tags": [
     "context"
    ]
   },
   "source": [
    "## 6.  Prepare the text for LDA analysis\n",
    "<p>The main text analysis method that we will use is latent Dirichlet allocation (LDA). LDA is able to perform topic detection on large document sets, determining what the main 'topics' are in a large unlabeled set of texts. A 'topic' is a collection of words that tend to co-occur often. The hypothesis is that LDA might be able to clarify what the different topics in the research titles are. These topics can then be used as a starting point for further analysis.</p>\n",
    "<p>LDA does not work directly on text data. First, it is necessary to convert the documents into a simple vector representation. This representation will then be used by LDA to determine the topics. Each entry of a 'document vector' will correspond with the number of times a word occurred in the document. In conclusion, we will convert a list of titles into a list of vectors, all with length equal to the vocabulary. For example, <em>'Analyzing machine learning trends with neural networks.'</em> would be transformed into <code>[1, 0, 1, ..., 1, 0]</code>.</p>\n",
    "<p>We'll then plot the 10 most common words based on the outcome of this operation (the list of document vectors). As a check, these words should also occur in the word cloud.</p>"
   ]
  },
  {
   "cell_type": "code",
   "execution_count": 12,
   "metadata": {
    "dc": {
     "key": "39"
    },
    "tags": [
     "sample_code"
    ]
   },
   "outputs": [
    {
     "data": {
      "image/png": "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\n",
      "text/plain": [
       "<Figure size 432x288 with 1 Axes>"
      ]
     },
     "metadata": {},
     "output_type": "display_data"
    }
   ],
   "source": [
    "# Load the library with the CountVectorizer method\n",
    "from sklearn.feature_extraction.text import CountVectorizer\n",
    "import numpy as np\n",
    "\n",
    "# Helper function\n",
    "def plot_10_most_common_words(count_data, count_vectorizer):\n",
    "    import matplotlib.pyplot as plt\n",
    "    words = count_vectorizer.get_feature_names()\n",
    "    total_counts = np.zeros(len(words))\n",
    "    for t in count_data:\n",
    "        total_counts+=t.toarray()[0]\n",
    "    \n",
    "    count_dict = (zip(words, total_counts))\n",
    "    count_dict = sorted(count_dict, key=lambda x:x[1], reverse=True)[0:10]\n",
    "    words = [w[0] for w in count_dict]\n",
    "    counts = [w[1] for w in count_dict]\n",
    "    x_pos = np.arange(len(words)) \n",
    "\n",
    "    plt.bar(x_pos, counts,align='center')\n",
    "    plt.xticks(x_pos, words, rotation=90) \n",
    "    plt.xlabel('words')\n",
    "    plt.ylabel('counts')\n",
    "    plt.title('10 most common words')\n",
    "    plt.show()\n",
    "\n",
    "# Initialise the count vectorizer with the English stopwords\n",
    "count_vectorizer = CountVectorizer(stop_words='english')\n",
    "\n",
    "# Fit and transform the processed titles\n",
    "count_data = count_vectorizer.fit_transform(papers['title_processed'])\n",
    "\n",
    "# Visualise the 10 most common words\n",
    "plot_10_most_common_words(count_data, count_vectorizer)"
   ]
  },
  {
   "cell_type": "markdown",
   "metadata": {
    "dc": {
     "key": "46"
    },
    "deletable": false,
    "editable": false,
    "run_control": {
     "frozen": true
    },
    "tags": [
     "context"
    ]
   },
   "source": [
    "## 7. Analysing trends with LDA\n",
    "<p>Finally, the research titles will be analyzed using LDA. Note that in order to process a new set of documents (e.g. news articles), a similar set of steps will be required to preprocess the data. The flow that was constructed here can thus easily be exported for a new text dataset.</p>\n",
    "<p>The only parameter we will tweak is the number of topics in the LDA algorithm. Typically, one would calculate the 'perplexity' metric to determine which number of topics is best and iterate over different amounts of topics until the lowest 'perplexity' is found. For now, let's play around with a different number of topics. From there, we can distinguish what each topic is about ('neural networks', 'reinforcement learning', 'kernel methods', 'gaussian processes', etc.).</p>"
   ]
  },
  {
   "cell_type": "code",
   "execution_count": 14,
   "metadata": {
    "dc": {
     "key": "46"
    },
    "tags": [
     "sample_code"
    ]
   },
   "outputs": [
    {
     "name": "stdout",
     "output_type": "stream",
     "text": [
      "Topics found via LDA:\n",
      "\n",
      "Topic #0:\n",
      "learning deep stochastic linear algorithms information online reinforcement gradient optimal\n",
      "\n",
      "Topic #1:\n",
      "models multi efficient learning inference large network methods neural bounds\n",
      "\n",
      "Topic #2:\n",
      "structured sampling decision bandits boosting generalized motion adversarial tree trees\n",
      "\n",
      "Topic #3:\n",
      "time search feature temporal using policy rank mixture space low\n",
      "\n",
      "Topic #4:\n",
      "gaussian regression processes process random convex sparse representations distributed unsupervised\n",
      "\n",
      "Topic #5:\n",
      "clustering visual image statistical memory images natural convolutional model features\n",
      "\n",
      "Topic #6:\n",
      "analysis fast estimation modeling approximation propagation graphs analog using error\n",
      "\n",
      "Topic #7:\n",
      "non variational detection model machine learning framework bayesian inverse general\n",
      "\n",
      "Topic #8:\n",
      "learning classification based recognition data probabilistic neural approach using supervised\n",
      "\n",
      "Topic #9:\n",
      "networks neural learning optimization recurrent active adaptive complexity data using\n"
     ]
    }
   ],
   "source": [
    "import warnings\n",
    "warnings.simplefilter(\"ignore\", DeprecationWarning)\n",
    "\n",
    "# Load the LDA model from sk-learn\n",
    "from sklearn.decomposition import LatentDirichletAllocation as LDA\n",
    " \n",
    "# Helper function\n",
    "def print_topics(model, count_vectorizer, n_top_words):\n",
    "    words = count_vectorizer.get_feature_names()\n",
    "    for topic_idx, topic in enumerate(model.components_):\n",
    "        print(\"\\nTopic #%d:\" % topic_idx)\n",
    "        print(\" \".join([words[i]\n",
    "                        for i in topic.argsort()[:-n_top_words - 1:-1]]))\n",
    "        \n",
    "# Tweak the two parameters below (use int values below 15)\n",
    "number_topics = 10\n",
    "number_words = 10\n",
    "\n",
    "# Create and fit the LDA model\n",
    "lda = LDA(n_components=number_topics)\n",
    "lda.fit(count_data)\n",
    "\n",
    "# Print the topics found by the LDA model\n",
    "print(\"Topics found via LDA:\")\n",
    "print_topics(lda, count_vectorizer, number_words)"
   ]
  },
  {
   "cell_type": "markdown",
   "metadata": {
    "dc": {
     "key": "53"
    },
    "deletable": false,
    "editable": false,
    "run_control": {
     "frozen": true
    },
    "tags": [
     "context"
    ]
   },
   "source": [
    "## 8. The future of machine learning\n",
    "<p>Machine learning has become increasingly popular over the past years. The number of NIPS conference papers has risen exponentially, and people are continuously looking for ways on how they can incorporate machine learning into their products and services.</p>\n",
    "<p>Although this analysis focused on analyzing machine learning trends in research, a lot of these techniques are rapidly being adopted in industry. Following the latest machine learning trends is a critical skill for a data scientist, and it is recommended to continuously keep learning by going through blogs, tutorials, and courses.</p>"
   ]
  }
 ],
 "metadata": {
  "kernelspec": {
   "display_name": "Python 3",
   "language": "python",
   "name": "python3"
  },
  "language_info": {
   "codemirror_mode": {
    "name": "ipython",
    "version": 3
   },
   "file_extension": ".py",
   "mimetype": "text/x-python",
   "name": "python",
   "nbconvert_exporter": "python",
   "pygments_lexer": "ipython3",
   "version": "3.8.5"
  }
 },
 "nbformat": 4,
 "nbformat_minor": 2
}
